{
  "nbformat": 4,
  "nbformat_minor": 0,
  "metadata": {
    "colab": {
      "name": "train_model",
      "provenance": [],
      "authorship_tag": "ABX9TyMTSR+nw747MA/lT+kJ/+ta",
      "include_colab_link": true
    },
    "kernelspec": {
      "name": "python3",
      "display_name": "Python 3"
    }
  },
  "cells": [
    {
      "cell_type": "markdown",
      "metadata": {
        "id": "view-in-github",
        "colab_type": "text"
      },
      "source": [
        "<a href=\"https://colab.research.google.com/github/nghiaphan177/Nhapmontgmt/blob/main/train_model.ipynb\" target=\"_parent\"><img src=\"https://colab.research.google.com/assets/colab-badge.svg\" alt=\"Open In Colab\"/></a>"
      ]
    },
    {
      "cell_type": "code",
      "metadata": {
        "id": "KHtgdut1GlU0"
      },
      "source": [
        "import pickle\n",
        "import numpy as np\n",
        "import pandas as pd\n",
        "from sklearn.model_selection import train_test_split\n",
        "from sklearn.linear_model import LogisticRegression"
      ],
      "execution_count": null,
      "outputs": []
    },
    {
      "cell_type": "code",
      "metadata": {
        "id": "YOoAYpoqzmUT"
      },
      "source": [
        "with open('data.pickle', 'rb') as f:\n",
        "  data = pickle.load(f)"
      ],
      "execution_count": null,
      "outputs": []
    },
    {
      "cell_type": "code",
      "metadata": {
        "id": "_gAQ5Wc51KQx"
      },
      "source": [
        "clf = LogisticRegression(random_state=0)"
      ],
      "execution_count": null,
      "outputs": []
    },
    {
      "cell_type": "code",
      "metadata": {
        "id": "lLQAfRh2z1SI"
      },
      "source": [
        "X_train, X_test, Y_train, Y_test = train_test_split(), data[1], random_state=42)"
      ],
      "execution_count": null,
      "outputs": []
    },
    {
      "cell_type": "code",
      "metadata": {
        "colab": {
          "base_uri": "https://localhost:8080/"
        },
        "id": "jb6ECRl-2KIk",
        "outputId": "6910f940-e8ee-44bc-9267-b236aeff52f1"
      },
      "source": [
        "print(clf.fit(X_train, Y_train))\n",
        "print(clf.score(X_test, Y_test))"
      ],
      "execution_count": null,
      "outputs": [
        {
          "output_type": "stream",
          "text": [
            "LogisticRegression(C=1.0, class_weight=None, dual=False, fit_intercept=True,\n",
            "                   intercept_scaling=1, l1_ratio=None, max_iter=100,\n",
            "                   multi_class='auto', n_jobs=None, penalty='l2',\n",
            "                   random_state=0, solver='lbfgs', tol=0.0001, verbose=0,\n",
            "                   warm_start=False)\n",
            "1.0\n"
          ],
          "name": "stdout"
        }
      ]
    },
    {
      "cell_type": "code",
      "metadata": {
        "id": "4chfvAeayIhb"
      },
      "source": [
        "df = pd.DataFrame()"
      ],
      "execution_count": null,
      "outputs": []
    },
    {
      "cell_type": "code",
      "metadata": {
        "id": "mQzkRDe8yf5h"
      },
      "source": [
        "df['pixcell'] = list(map(str, data[0]))\r\n",
        "df['labels'] = list(map(int, data[1]))"
      ],
      "execution_count": null,
      "outputs": []
    },
    {
      "cell_type": "code",
      "metadata": {
        "id": "_ioZJCdEyy9t"
      },
      "source": [
        "df = df.drop_duplicates(subset='pixcell')"
      ],
      "execution_count": null,
      "outputs": []
    },
    {
      "cell_type": "code",
      "metadata": {
        "colab": {
          "base_uri": "https://localhost:8080/"
        },
        "id": "zqs5VYrDy-kd",
        "outputId": "7077cace-d569-4ff1-cb89-0f464bc348f8"
      },
      "source": [
        "df.value_counts(subset='labels')"
      ],
      "execution_count": null,
      "outputs": [
        {
          "output_type": "execute_result",
          "data": {
            "text/plain": [
              "labels\n",
              "0    134444\n",
              "1       346\n",
              "dtype: int64"
            ]
          },
          "metadata": {
            "tags": []
          },
          "execution_count": 20
        }
      ]
    },
    {
      "cell_type": "code",
      "metadata": {
        "colab": {
          "base_uri": "https://localhost:8080/"
        },
        "id": "kVs8Ik2TjrE2",
        "outputId": "4ac3ef69-70df-4e74-e101-ec943e3bf0fc"
      },
      "source": [
        "clf.coef_"
      ],
      "execution_count": null,
      "outputs": [
        {
          "output_type": "execute_result",
          "data": {
            "text/plain": [
              "array([[-1.28650932e-01,  3.01570868e-01, -1.72580179e-01,\n",
              "        -2.10994342e-05]])"
            ]
          },
          "metadata": {
            "tags": []
          },
          "execution_count": 6
        }
      ]
    },
    {
      "cell_type": "code",
      "metadata": {
        "id": "DF-G1giY2dxT"
      },
      "source": [
        "with open('model.pickle', 'wb') as f:\n",
        "  pickle.dump(clf, f)"
      ],
      "execution_count": null,
      "outputs": []
    }
  ]
}